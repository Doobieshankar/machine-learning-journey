{
 "cells": [
  {
   "cell_type": "markdown",
   "id": "5079327e",
   "metadata": {},
   "source": [
    "# Mathematics for Data Analysis — Detailed Examples & Step-by-step Implementations\n",
    "\n",
    "This notebook contains Python code and explanations for the topics covered in the PDF:\n",
    "- Descriptive statistics\n",
    "- Probability & Bayes\n",
    "- Distributions\n",
    "- Linear Algebra / Normal Equation\n",
    "- Calculus & Gradient Descent\n",
    "- Hypothesis Testing (Permutation test)\n",
    "- PCA (Dimensionality Reduction)\n"
   ]
  },
  {
   "cell_type": "markdown",
   "id": "6970514e",
   "metadata": {},
   "source": [
    "## 1. Descriptive Statistics"
   ]
  },
  {
   "cell_type": "code",
   "execution_count": null,
   "id": "beb2ebb4",
   "metadata": {},
   "outputs": [],
   "source": [
    "import numpy as np\n",
    "import matplotlib.pyplot as plt\n",
    "\n",
    "# Descriptive statistics example dataset\n",
    "desc_data = np.array([12, 15, 12, 18, 20, 22, 12], dtype=float)\n",
    "n = desc_data.size\n",
    "_sum = desc_data.sum()\n",
    "mean = _sum / n\n",
    "median = np.median(desc_data)\n",
    "(unique, counts) = np.unique(desc_data, return_counts=True)\n",
    "mode_val = unique[np.argmax(counts)]\n",
    "variance = ((desc_data - mean)**2).sum() / n\n",
    "std = np.sqrt(variance)\n",
    "\n",
    "print(\"Dataset:\", desc_data)\n",
    "print(\"n:\", n, \"Sum:\", _sum)\n",
    "print(\"Mean:\", mean, \"Median:\", median, \"Mode:\", mode_val)\n",
    "print(\"Variance:\", variance, \"Std:\", std)\n",
    "\n",
    "plt.hist(desc_data, bins=np.arange(desc_data.min()-0.5, desc_data.max()+1.5))\n",
    "plt.axvline(mean, linestyle='--', label=f\"Mean={mean:.2f}\")\n",
    "plt.axvline(median, linestyle=':', label=f\"Median={median:.2f}\")\n",
    "plt.title(\"Histogram with Mean & Median\")\n",
    "plt.xlabel(\"Value\"); plt.ylabel(\"Frequency\"); plt.legend()\n",
    "plt.show()"
   ]
  },
  {
   "cell_type": "markdown",
   "id": "2065e6f9",
   "metadata": {},
   "source": [
    "## 2. Probability & Bayes"
   ]
  },
  {
   "cell_type": "code",
   "execution_count": null,
   "id": "1d12b6fe",
   "metadata": {},
   "outputs": [],
   "source": [
    "# Bayes Theorem Example: Medical Test\n",
    "prev = 0.01\n",
    "sens = 0.99\n",
    "spec = 0.95\n",
    "\n",
    "num = sens * prev\n",
    "den = sens * prev + (1 - spec) * (1 - prev)\n",
    "posterior = num / den\n",
    "\n",
    "print(\"Posterior probability P(Disease|Positive):\", posterior)\n",
    "\n",
    "import matplotlib.pyplot as plt\n",
    "plt.bar(['Prior (Prevalence)','Posterior P(D|+)'], [prev, posterior])\n",
    "plt.title(\"Prior vs Posterior Probability\")\n",
    "plt.ylabel(\"Probability\")\n",
    "plt.show()"
   ]
  },
  {
   "cell_type": "markdown",
   "id": "0f1b7de6",
   "metadata": {},
   "source": [
    "## 3. Distributions"
   ]
  },
  {
   "cell_type": "code",
   "execution_count": null,
   "id": "b8aaeb80",
   "metadata": {},
   "outputs": [],
   "source": [
    "# Normal Distribution\n",
    "mu, sigma = 50, 5\n",
    "samples_normal = np.random.normal(mu, sigma, size=500)\n",
    "\n",
    "x = np.linspace(mu - 4*sigma, mu + 4*sigma, 200)\n",
    "pdf = (1/(sigma*np.sqrt(2*np.pi))) * np.exp(-0.5*((x-mu)/sigma)**2)\n",
    "\n",
    "plt.hist(samples_normal, bins=20, density=True)\n",
    "plt.plot(x, pdf)\n",
    "plt.title(\"Normal Distribution: Sample & PDF\")\n",
    "plt.show()\n",
    "\n",
    "# Binomial Distribution PMF\n",
    "from math import comb\n",
    "n_binom, p_binom = 10, 0.3\n",
    "k_values = np.arange(0, n_binom+1)\n",
    "pmf_binom = [comb(n_binom,k)*(p_binom**k)*((1-p_binom)**(n_binom-k)) for k in k_values]\n",
    "\n",
    "plt.bar(k_values, pmf_binom)\n",
    "plt.title(f\"Binomial PMF (n={n_binom},p={p_binom})\")\n",
    "plt.xlabel(\"k\"); plt.ylabel(\"P(X=k)\")\n",
    "plt.show()\n",
    "\n",
    "# Poisson Distribution PMF\n",
    "lam = 3\n",
    "k_vals = np.arange(0,11)\n",
    "poisson_pmf = [np.exp(-lam)*lam**k/np.math.factorial(k) for k in k_vals]\n",
    "\n",
    "plt.bar(k_vals, poisson_pmf)\n",
    "plt.title(f\"Poisson PMF (lambda={lam})\")\n",
    "plt.xlabel(\"k\"); plt.ylabel(\"P(X=k)\")\n",
    "plt.show()"
   ]
  },
  {
   "cell_type": "markdown",
   "id": "2113d732",
   "metadata": {},
   "source": [
    "## 4. Linear Algebra — Normal Equation"
   ]
  },
  {
   "cell_type": "code",
   "execution_count": null,
   "id": "19c0ea90",
   "metadata": {},
   "outputs": [],
   "source": [
    "# Linear Regression via Normal Equation\n",
    "x_vals = np.array([1,2,3,4], dtype=float)\n",
    "y_vals = np.array([2,3,5,4], dtype=float)\n",
    "\n",
    "X = np.column_stack((np.ones_like(x_vals), x_vals))\n",
    "w = np.linalg.inv(X.T @ X) @ X.T @ y_vals\n",
    "\n",
    "print(\"Weights (intercept, slope):\", w)\n",
    "\n",
    "plt.scatter(x_vals, y_vals, label='Data')\n",
    "x_line = np.linspace(x_vals.min(), x_vals.max(), 100)\n",
    "y_line = w[0] + w[1]*x_line\n",
    "plt.plot(x_line, y_line, label='Fit', color='orange')\n",
    "plt.title(\"Linear Regression Fit (Normal Equation)\")\n",
    "plt.xlabel(\"x\"); plt.ylabel(\"y\"); plt.legend()\n",
    "plt.show()"
   ]
  },
  {
   "cell_type": "markdown",
   "id": "fcf8c03e",
   "metadata": {},
   "source": [
    "## 5. Calculus & Optimization — Gradient Descent"
   ]
  },
  {
   "cell_type": "code",
   "execution_count": null,
   "id": "65e1945e",
   "metadata": {},
   "outputs": [],
   "source": [
    "# Gradient Descent for Linear Regression\n",
    "alpha = 0.1\n",
    "params = np.array([0.0,0.0])\n",
    "m = x_vals.size\n",
    "losses = []\n",
    "\n",
    "for i in range(20):\n",
    "    preds = params[0] + params[1]*x_vals\n",
    "    error = preds - y_vals\n",
    "    loss = (error**2).mean()\n",
    "    grad0 = 2*error.mean()\n",
    "    grad1 = 2*(error*x_vals).mean()\n",
    "    params -= alpha*np.array([grad0,grad1])\n",
    "    losses.append(loss)\n",
    "\n",
    "print(\"Final params after 20 iterations:\", params)\n",
    "\n",
    "plt.plot(range(1,21), losses, marker='o')\n",
    "plt.title(\"Gradient Descent Loss\")\n",
    "plt.xlabel(\"Iteration\"); plt.ylabel(\"MSE Loss\")\n",
    "plt.show()"
   ]
  },
  {
   "cell_type": "markdown",
   "id": "0b4f68b5",
   "metadata": {},
   "source": [
    "## 6. Hypothesis Testing — Permutation Test"
   ]
  },
  {
   "cell_type": "code",
   "execution_count": null,
   "id": "7396b910",
   "metadata": {},
   "outputs": [],
   "source": [
    "# Permutation Test\n",
    "np.random.seed(42)\n",
    "group_A = np.array([85,90,88,75,95], dtype=float)\n",
    "group_B = np.array([80,78,85,82,79], dtype=float)\n",
    "obs_diff = group_A.mean() - group_B.mean()\n",
    "\n",
    "combined = np.concatenate([group_A, group_B])\n",
    "n_perms = 1000\n",
    "diffs = np.zeros(n_perms)\n",
    "for i in range(n_perms):\n",
    "    perm = np.random.permutation(combined)\n",
    "    a = perm[:group_A.size]\n",
    "    b = perm[group_A.size:]\n",
    "    diffs[i] = a.mean() - b.mean()\n",
    "\n",
    "p_value = (np.abs(diffs) >= np.abs(obs_diff)).mean()\n",
    "print(\"Observed difference:\", obs_diff, \"p-value:\", p_value)\n",
    "\n",
    "plt.hist(diffs, bins=30)\n",
    "plt.axvline(obs_diff, linestyle='--', color='red', label='Observed diff')\n",
    "plt.title(\"Permutation Test Distribution\")\n",
    "plt.xlabel(\"Mean difference\"); plt.ylabel(\"Frequency\")\n",
    "plt.legend()\n",
    "plt.show()"
   ]
  },
  {
   "cell_type": "markdown",
   "id": "f762f1d1",
   "metadata": {},
   "source": [
    "## 7. PCA — Dimensionality Reduction"
   ]
  },
  {
   "cell_type": "code",
   "execution_count": null,
   "id": "018010e1",
   "metadata": {},
   "outputs": [],
   "source": [
    "# PCA Example\n",
    "pca_data = np.array([[2.5,2.4],[0.5,0.7],[2.2,2.9],[1.9,2.2],[3.1,3.0],\n",
    "                     [2.3,2.7],[2,1.6],[1,1.1],[1.5,1.6],[1.1,0.9]])\n",
    "mean_vec = pca_data.mean(axis=0)\n",
    "centered = pca_data - mean_vec\n",
    "cov = np.cov(centered.T, bias=False)\n",
    "eigvals, eigvecs = np.linalg.eig(cov)\n",
    "order = np.argsort(eigvals)[::-1]\n",
    "eigvals = eigvals[order]\n",
    "eigvecs = eigvecs[:,order]\n",
    "print(\"Eigenvalues:\", eigvals)\n",
    "print(\"Eigenvectors:\", eigvecs)\n",
    "\n",
    "plt.scatter(centered[:,0], centered[:,1])\n",
    "pc1 = eigvecs[:,0]\n",
    "plt.arrow(0,0,pc1[0]*2,pc1[1]*2,head_width=0.05,color='red')\n",
    "plt.title(\"PCA: Centered Data & 1st Principal Component\")\n",
    "plt.xlabel(\"X1 centered\"); plt.ylabel(\"X2 centered\")\n",
    "plt.show()"
   ]
  }
 ],
 "metadata": {
  "kernelspec": {
   "display_name": "Python 3 (ipykernel)",
   "language": "python",
   "name": "python3"
  },
  "language_info": {
   "codemirror_mode": {
    "name": "ipython",
    "version": 3
   },
   "file_extension": ".py",
   "mimetype": "text/x-python",
   "name": "python",
   "nbconvert_exporter": "python",
   "pygments_lexer": "ipython3",
   "version": "3.12.3"
  }
 },
 "nbformat": 4,
 "nbformat_minor": 5
}
